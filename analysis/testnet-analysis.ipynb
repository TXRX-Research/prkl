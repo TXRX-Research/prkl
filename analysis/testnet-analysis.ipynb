{
 "cells": [
  {
   "cell_type": "code",
   "execution_count": 740,
   "metadata": {
    "slideshow": {
     "slide_type": "skip"
    }
   },
   "outputs": [],
   "source": [
    "# disable warnings\n",
    "import warnings\n",
    "warnings.filterwarnings('ignore')\n",
    "TOPAZ = (\"topaz\",\"f071c66c\")\n",
    "WITTI = (\"witti\",\"f6775d07\")"
   ]
  },
  {
   "cell_type": "code",
   "execution_count": 741,
   "metadata": {
    "tags": [
     "parameters"
    ]
   },
   "outputs": [],
   "source": [
    "NETWORK,FORK_DIGEST=WITTI\n",
    "LOAD_SESSION=False"
   ]
  },
  {
   "cell_type": "code",
   "execution_count": 742,
   "metadata": {},
   "outputs": [],
   "source": [
    "import pandas as pd\n",
    "from pathlib import Path\n",
    "import glob\n",
    "import os\n",
    "import pickle\n",
    "\n",
    "def load_data(network, fork_digest, from_pickel):\n",
    "    dfs = []\n",
    "    start = 12000\n",
    "    path = str(Path.home())+\"/.{}/\".format(network)\n",
    "    if from_pickel:\n",
    "        file = open('../data/{}-crawl-data.pkl'.format(network), 'rb')\n",
    "        (df_all_with_dups, df_all, df, tot_num_nodes, num_nodes) = pickle.load(file)\n",
    "        file.close()\n",
    "    else:\n",
    "        pattern = \"{}{}\".format(path,\"crawler*\")\n",
    "        numFiles = len(glob.glob(pattern)) #!ls -l ~/.$network/crawler* |wc -l\n",
    "        end = start + numFiles\n",
    "        for port in list(range(start,end)):\n",
    "            file = path+\"/crawler\"+str(port)+\".csv\"\n",
    "            df = pd.read_csv(file) \n",
    "            df.drop(columns=['index'])\n",
    "            dfs.append(df)\n",
    "\n",
    "        df_all_with_dups = pd.concat(dfs).reset_index(drop=True).sort_values(by=['seq_no'], ascending=False) #ensure we keep highest seq no\n",
    "        df_all = df_all_with_dups.drop_duplicates(subset=\"node_id\", keep = 'first').reset_index(drop=True)\n",
    "        df_all.set_index('node_id')\n",
    "        df = df_all[df_all['fork_digest']==fork_digest]\n",
    "        tot_num_nodes = len(df_all)\n",
    "        num_nodes = len(df)\n",
    "        file = open('../data/{}-crawl-data.pkl'.format(NETWORK), 'wb')\n",
    "        foo = (df_all_with_dups, df_all, df, tot_num_nodes, num_nodes)\n",
    "        pickle.dump(foo,file)\n",
    "        file.close()\n",
    "        \n",
    "    return (df_all_with_dups, df_all, df, tot_num_nodes, num_nodes)"
   ]
  },
  {
   "cell_type": "code",
   "execution_count": 743,
   "metadata": {
    "slideshow": {
     "slide_type": "skip"
    }
   },
   "outputs": [
    {
     "name": "stdout",
     "output_type": "stream",
     "text": [
      "Fetching missing info for  1  ip addresses.\n"
     ]
    }
   ],
   "source": [
    "#%%capture\n",
    "import ipinfo\n",
    "import pickle\n",
    "\n",
    "    \n",
    "if LOAD_SESSION is True:\n",
    "    (df_all_with_dups, df_all, df, tot_num_nodes, num_nodes) = load_data(NETWORK,FORK_DIGEST,True)\n",
    "    # load any stored ip info\n",
    "    ips = df[\"ip4\"].to_list()\n",
    "    file = open('../data/ips_info.pkl', 'rb')\n",
    "    saved_ips_info = pickle.load(file)\n",
    "    file.close()\n",
    "else:\n",
    "    (df_all_with_dups, df_all, df, tot_num_nodes, num_nodes) = load_data(NETWORK,FORK_DIGEST,False)\n",
    "    # load any stored ip info\n",
    "    ips = df[\"ip4\"].to_list()\n",
    "    file = open('../data/ips_info.pkl', 'rb')\n",
    "    saved_ips_info = pickle.load(file)\n",
    "    file.close()\n",
    "    # determine what ips we need to lookup\n",
    "    need_info = []\n",
    "    for ip in ips:\n",
    "        if ip not in saved_ips_info:\n",
    "            need_info.append(ip)\n",
    "\n",
    "    print(\"Fetching missing info for \", len(need_info), \" ip addresses.\");\n",
    "\n",
    "    # get missing ip info\n",
    "    handler = ipinfo.getHandler('7bbf8b616179fb')\n",
    "    ips_info = [handler.getDetails(ip) for ip in need_info]\n",
    "\n",
    "    # save the ip info for next time\n",
    "\n",
    "    file = open('../data/ips_info.pkl', 'wb')\n",
    "\n",
    "    for ip_info in ips_info:\n",
    "        saved_ips_info[ip_info.ip] = ip_info.all\n",
    "\n",
    "    pickle.dump(saved_ips_info,file)\n",
    "    file.close()\n",
    "\n",
    "ips_info={}\n",
    "for ip in ips:\n",
    "    ips_info[ip]=saved_ips_info[ip]\n",
    "\n",
    "\n",
    "bad_ips = []\n",
    "for ip,info in ips_info.items():\n",
    "    if info['country_name'] == None:\n",
    "        bad_ips.append(ip)\n",
    "\n",
    "# collect node_ids of the records with bad ip addresses\n",
    "bad_ip_node_ids = df[df['ip4'].isin(bad_ips)]['node_id'].to_list()\n",
    "\n",
    "asn_orgs = [info['org'] if 'org' in info else 'None' for ip,info in ips_info.items()]\n",
    "asn_orgs = [' '.join(org.split(' ')[1:]) for org in asn_orgs if org != 'None']"
   ]
  },
  {
   "cell_type": "code",
   "execution_count": null,
   "metadata": {
    "slideshow": {
     "slide_type": "skip"
    }
   },
   "outputs": [],
   "source": []
  },
  {
   "cell_type": "code",
   "execution_count": 744,
   "metadata": {
    "slideshow": {
     "slide_type": "slide"
    },
    "variables": {
     " NETWORK.title() ": "Topaz",
     " num_nodes ": "464",
     " tot_num_nodes ": "465",
     "-NETWORK.title()-": "<p><strong>SyntaxError</strong>: invalid syntax (<ipython-input-32-bef0a151a7ea>, line 1)</p>\n"
    }
   },
   "outputs": [
    {
     "data": {
      "text/markdown": [
       "# A (DHT) Crawl Through The Witti Testnet 🕷"
      ],
      "text/plain": [
       "<IPython.core.display.Markdown object>"
      ]
     },
     "metadata": {},
     "output_type": "display_data"
    },
    {
     "data": {
      "text/markdown": [
       "##### by [Jonny Rhea](https://twitter.com/JonnyRhea) of [TXRX Research](https://twitter.com/TXRXResearch)"
      ],
      "text/plain": [
       "<IPython.core.display.Markdown object>"
      ]
     },
     "metadata": {},
     "output_type": "display_data"
    },
    {
     "data": {
      "text/markdown": [
       "\n"
      ],
      "text/plain": [
       "<IPython.core.display.Markdown object>"
      ]
     },
     "metadata": {},
     "output_type": "display_data"
    },
    {
     "data": {
      "text/markdown": [
       "Last Updated: 2020-06-04"
      ],
      "text/plain": [
       "<IPython.core.display.Markdown object>"
      ]
     },
     "metadata": {},
     "output_type": "display_data"
    }
   ],
   "source": [
    "from IPython.display import Markdown as md\n",
    "\n",
    "# A (DHT) Crawl Through The {{ NETWORK.title() }} Testnet 🕷\n",
    "display(md(\"# A (DHT) Crawl Through The {} Testnet 🕷\".format(NETWORK.title())))\n",
    "display(md(\"##### by [Jonny Rhea](https://twitter.com/JonnyRhea) of [TXRX Research](https://twitter.com/TXRXResearch)\"))\n",
    "display(md(\"\\n\"))\n",
    "display(md(\"Last Updated: {}\".format(df.timestamp.max().split(']')[0])))"
   ]
  },
  {
   "cell_type": "code",
   "execution_count": 745,
   "metadata": {
    "slideshow": {
     "slide_type": "slide"
    },
    "variables": {
     " NETWORK.title() ": "Topaz",
     " num_nodes ": "464",
     " tot_num_nodes ": "465",
     "-NETWORK.title()-": "<p><strong>SyntaxError</strong>: invalid syntax (<ipython-input-32-bef0a151a7ea>, line 1)</p>\n"
    }
   },
   "outputs": [
    {
     "data": {
      "text/markdown": [
       "### 🕸 Crawl Summary 🕸"
      ],
      "text/plain": [
       "<IPython.core.display.Markdown object>"
      ]
     },
     "metadata": {},
     "output_type": "display_data"
    },
    {
     "data": {
      "text/markdown": [
       "\n"
      ],
      "text/plain": [
       "<IPython.core.display.Markdown object>"
      ]
     },
     "metadata": {},
     "output_type": "display_data"
    },
    {
     "data": {
      "text/markdown": [
       "- **Total number of nodes found:** 299"
      ],
      "text/plain": [
       "<IPython.core.display.Markdown object>"
      ]
     },
     "metadata": {},
     "output_type": "display_data"
    },
    {
     "data": {
      "text/markdown": [
       "- **Number of nodes on Witti:** 99"
      ],
      "text/plain": [
       "<IPython.core.display.Markdown object>"
      ]
     },
     "metadata": {},
     "output_type": "display_data"
    }
   ],
   "source": [
    "display(md(\"### 🕸 Crawl Summary 🕸\"))\n",
    "display(md(\"\\n\") )\n",
    "display(md(\"- **Total number of nodes found:** {}\".format(tot_num_nodes)))\n",
    "display(md(\"- **Number of nodes on {}:** {}\".format(NETWORK.title(), num_nodes)))"
   ]
  },
  {
   "cell_type": "code",
   "execution_count": 746,
   "metadata": {
    "slideshow": {
     "slide_type": "fragment"
    }
   },
   "outputs": [
    {
     "data": {
      "image/png": "[encoded data removed]",
      "text/plain": [
       "<Figure size 864x432 with 1 Axes>"
      ]
     },
     "metadata": {
      "needs_background": "light"
     },
     "output_type": "display_data"
    }
   ],
   "source": [
    "import matplotlib\n",
    "%matplotlib inline\n",
    "from collections import Counter \n",
    "import numpy as np\n",
    "import matplotlib.pyplot as plt\n",
    "\n",
    "\n",
    "fork_digests = df_all[\"fork_digest\"].to_list()\n",
    "\n",
    "counts = Counter(fork_digests)\n",
    "counts = sorted(counts.items(), key=lambda i: i[1], reverse=True)\n",
    "labels, values  = zip(*counts)\n",
    "\n",
    "indexes = np.arange(len(labels))\n",
    "width = .5\n",
    "plt.rc('font', family='serif')\n",
    "plt.figure(figsize=(12,6))\n",
    "plt.title('Node Count by Fork Digest')\n",
    "plt.bar(indexes, values, width)\n",
    "plt.xticks(indexes, labels)\n",
    "plt.grid(linestyle='-', linewidth='0.5', color='grey')\n",
    "plt.show()"
   ]
  },
  {
   "cell_type": "code",
   "execution_count": 747,
   "metadata": {},
   "outputs": [
    {
     "data": {
      "text/markdown": [
       "> #### Only nodes with fork-digest `f6775d07` are members of the `Witti` network."
      ],
      "text/plain": [
       "<IPython.core.display.Markdown object>"
      ]
     },
     "metadata": {},
     "output_type": "display_data"
    }
   ],
   "source": [
    "display(md(\"> #### Only nodes with fork-digest `{}` are members of the `{}` network.\".format(FORK_DIGEST,NETWORK.title())))"
   ]
  },
  {
   "cell_type": "markdown",
   "metadata": {
    "slideshow": {
     "slide_type": "slide"
    }
   },
   "source": [
    "### 🕸 Node Distribution 🕸"
   ]
  },
  {
   "cell_type": "code",
   "execution_count": 748,
   "metadata": {
    "slideshow": {
     "slide_type": "skip"
    }
   },
   "outputs": [
    {
     "data": {
      "image/png": "[encoded data removed]",
      "text/plain": [
       "<Figure size 2160x1440 with 1 Axes>"
      ]
     },
     "metadata": {
      "needs_background": "light"
     },
     "output_type": "display_data"
    }
   ],
   "source": [
    "from collections import Counter \n",
    "import numpy as np\n",
    "import matplotlib.pyplot as plt\n",
    "from matplotlib.ticker import MaxNLocator\n",
    "\n",
    "counts = Counter(asn_orgs)\n",
    "counts = sorted(counts.items(), key=lambda i: i[1], reverse=True)\n",
    "title_text = NETWORK.title()+' IP Address ASNs'\n",
    "if len(counts) >= 10:\n",
    "    title_text = NETWORK.title()+' IP Address ASNs (Top 10)'\n",
    "    counts = counts[:10]\n",
    "labels, values  = zip(*counts)\n",
    "\n",
    "indexes = np.arange(len(labels))\n",
    "width = .75\n",
    "plt.rc('font', family='serif')\n",
    "plt.figure(figsize=(30,20))\n",
    "plt.title(title_text, fontsize=20)\n",
    "plt.bar(indexes, values, width)\n",
    "plt.xticks(rotation=90)\n",
    "plt.xticks(indexes, labels, fontsize=16)\n",
    "plt.yticks(fontsize=20)\n",
    "ax = plt.axes()\n",
    "ax.yaxis.set_major_locator(MaxNLocator(integer=True))\n",
    "plt.grid(linestyle='-', linewidth='0.5', color='grey')\n",
    "plt.tight_layout()\n",
    "plt.show()\n"
   ]
  },
  {
   "cell_type": "markdown",
   "metadata": {},
   "source": [
    "> This plot gives us an idea of how nodes are hosted"
   ]
  },
  {
   "cell_type": "code",
   "execution_count": 749,
   "metadata": {
    "slideshow": {
     "slide_type": "fragment"
    }
   },
   "outputs": [
    {
     "data": {
      "image/png": "[encoded data removed]",
      "text/plain": [
       "<Figure size 576x432 with 1 Axes>"
      ]
     },
     "metadata": {
      "needs_background": "light"
     },
     "output_type": "display_data"
    }
   ],
   "source": [
    "import numpy as np\n",
    "import matplotlib.pyplot as plt\n",
    "from matplotlib import rc\n",
    "from collections import Counter \n",
    "\n",
    "NUM_NODES = len(df)\n",
    "df_nodes_with_bad_ip = df_all_with_dups[df_all_with_dups['node_id'].isin(bad_ip_node_ids)].drop_duplicates(subset=\"node_id\", keep = 'first')\n",
    "PERCENT_WITH_BAD_IP = len(df_nodes_with_bad_ip[df_nodes_with_bad_ip['fork_digest']==FORK_DIGEST])/NUM_NODES\n",
    "PERCENT_VALIDATING = len(df[df[\"subnet_ids\"]!=\"[]\"])/NUM_NODES\n",
    "num_nodes_cloud_hosted = 0\n",
    "for org in asn_orgs:\n",
    "    if \"Amazon\"  in org or \"Google\" in org or \"Microsoft\" in org:\n",
    "        num_nodes_cloud_hosted += 1\n",
    "    \n",
    "PERCENT_CLOUD_HOSTED=num_nodes_cloud_hosted/NUM_NODES\n",
    "\n",
    "\n",
    "\n",
    "# Data\n",
    "r = [0,1,2]\n",
    "raw_data = {'blueBars': [PERCENT_VALIDATING,1-PERCENT_WITH_BAD_IP,PERCENT_CLOUD_HOSTED], 'orangeBars': [1-PERCENT_VALIDATING,PERCENT_WITH_BAD_IP,1-PERCENT_CLOUD_HOSTED]}\n",
    "df_nodes = pd.DataFrame(raw_data)\n",
    " \n",
    "# From raw value to percentage\n",
    "totals = [i+j for i,j in zip(df_nodes['blueBars'], df_nodes['orangeBars'])]\n",
    "blueBars = [i / j * 100 for i,j in zip(df_nodes['blueBars'], totals)]\n",
    "orangeBars = [i / j * 100 for i,j in zip(df_nodes['orangeBars'], totals)]\n",
    " \n",
    "# plot\n",
    "barWidth = 0.85\n",
    "names = ('Nodes Validating','Nodes With Valid IPs','Nodes on AWS,GCP,Azure')\n",
    "fig,ax = plt.subplots(figsize=(8,6))\n",
    "ax.bar(r, blueBars, color='#1f77b4', edgecolor='white', width=barWidth)\n",
    "ax.bar(r, orangeBars, bottom=blueBars, color='orange', edgecolor='white', width=barWidth)\n",
    "ax.set_ylabel('Percent')\n",
    "\n",
    "for p in ax.patches:\n",
    "    width, height = p.get_width(), p.get_height()\n",
    "    x, y = p.get_xy() \n",
    "    ax.text(x+width/2, \n",
    "            y+height/2, \n",
    "            '{:.0f} %'.format(height), \n",
    "            horizontalalignment='center', \n",
    "            verticalalignment='center',\n",
    "            color='white')\n",
    "\n",
    "plt.title(NETWORK.title()+' Nodes')\n",
    "# Custom x axis\n",
    "plt.xticks(r, names)\n",
    "plt.rc('font', family='serif')\n",
    "# Show graphic\n",
    "plt.show()\n"
   ]
  },
  {
   "cell_type": "markdown",
   "metadata": {
    "slideshow": {
     "slide_type": "fragment"
    }
   },
   "source": [
    "> - **Nodes Validating:** If a node's ENR indicated that it belonged to one or more persistent committees, then it was considered a validating node.\n",
    "- **Nodes with Valid IPs:** IP address within one of the private IPv4 network ranges were considered invalid.\n",
    "- **Nodes on AWS, GCP, Azure:** IP addresses that corresponded to an ASN that belongs to Amazon, Google, or Microsoft."
   ]
  },
  {
   "cell_type": "markdown",
   "metadata": {
    "slideshow": {
     "slide_type": "slide"
    }
   },
   "source": [
    "### 🕸 Subnet Distribution 🕸"
   ]
  },
  {
   "cell_type": "code",
   "execution_count": null,
   "metadata": {
    "slideshow": {
     "slide_type": "fragment"
    }
   },
   "outputs": [],
   "source": [
    "import numpy as np\n",
    "import matplotlib.pyplot as plt\n",
    "\n",
    "subnets = df[\"subnet_ids\"].to_list()\n",
    "subnets = [subnet.replace('[','').replace(']','').replace(' ','') for subnet in subnets]\n",
    "subnets = [subnet if len(subnet) > 0 else '    None' for subnet in subnets]\n",
    "subnets = ','.join(subnets)\n",
    "subnets = subnets.split(',')\n",
    "labels = [str(label) for label in list(range(0,64))]# + ['    None']\n",
    "values = [subnets.count(label) for label in labels]\n",
    "\n",
    "indexes = np.arange(len(labels))\n",
    "width = .5\n",
    "plt.figure(figsize=(18,8))\n",
    "plt.title(NETWORK.title()+' Subnet Distribution',fontsize=20)\n",
    "plt.bar(indexes, values, width)\n",
    "plt.yticks(fontsize=12)\n",
    "plt.xticks(indexes, labels,fontsize=12)\n",
    "plt.xlabel(\"Subnet\",fontsize=15)\n",
    "plt.rc('font', family='serif')\n",
    "plt.grid(linestyle='-', linewidth='0.5', color='grey')\n",
    "plt.tight_layout()\n",
    "plt.show()"
   ]
  },
  {
   "cell_type": "markdown",
   "metadata": {
    "slideshow": {
     "slide_type": "fragment"
    }
   },
   "source": [
    "> #### Subnet subscriptions should be evenly distributed from `0 - 63`."
   ]
  },
  {
   "cell_type": "code",
   "execution_count": null,
   "metadata": {},
   "outputs": [],
   "source": [
    "import numpy as np\n",
    "import matplotlib.pyplot as plt\n",
    "from matplotlib.ticker import MaxNLocator\n",
    "\n",
    "vc_list = []\n",
    "for ids_str in df[\"subnet_ids\"].to_list():\n",
    "    ids = eval(ids_str)\n",
    "    vc_list.append(len(ids))\n",
    "        \n",
    "df_vc = pd.DataFrame(vc_list, columns =['subnets']) \n",
    "\n",
    "#bins = [-1]+list(range(0, 67, 4))\n",
    "bins = list(range(0, 64, 3))+[64]\n",
    "pd.set_option('display.max_rows', 100)\n",
    "df_vc['buckets']=pd.cut(df_vc.subnets, bins)\n",
    "df_vc['subnet_ids']=df[\"subnet_ids\"].reset_index(drop=True)\n",
    "\n",
    "groups = pd.DataFrame(df_vc.groupby(pd.cut(df_vc.subnets, bins)).size(), columns =['count']).reset_index()\n",
    "\n",
    "labels = list(groups['subnets'])\n",
    "labels[len(labels)-1]='[64,∞)'\n",
    "values = list(groups['count'])\n",
    "indexes = np.arange(len(list(groups['subnets'])))\n",
    "width = .75\n",
    "plt.rc('font', family='serif')\n",
    "plt.figure(figsize=(30,20))\n",
    "plt.title(NETWORK.title()+' Validators Per Node', fontsize=30)\n",
    "plt.bar(indexes, values, width)\n",
    "plt.xticks(indexes, labels, fontsize=20)\n",
    "plt.xlabel(\"Validator Counts\",fontsize=24)\n",
    "plt.rc('font', family='serif')\n",
    "plt.yticks(fontsize=20)\n",
    "ax = plt.axes()\n",
    "ax.yaxis.set_major_locator(MaxNLocator(integer=True))\n",
    "plt.grid(linestyle='-', linewidth='0.5', color='grey')\n",
    "plt.tight_layout()\n",
    "plt.show()"
   ]
  },
  {
   "cell_type": "markdown",
   "metadata": {
    "slideshow": {
     "slide_type": "fragment"
    }
   },
   "source": [
    "> #### This plot shows us how validators are distributed across nodes. The bucket (0,3] accounts for nodes that are subscribed to 1 to 3 attestation subnets. \n",
    "> #### Note: we assume that a node with N validators will subscribe to N attestation subnets."
   ]
  },
  {
   "cell_type": "code",
   "execution_count": null,
   "metadata": {},
   "outputs": [],
   "source": []
  },
  {
   "cell_type": "markdown",
   "metadata": {
    "slideshow": {
     "slide_type": "slide"
    }
   },
   "source": [
    "### 🕸 Node Locations 🕸"
   ]
  },
  {
   "cell_type": "code",
   "execution_count": null,
   "metadata": {
    "slideshow": {
     "slide_type": "fragment"
    }
   },
   "outputs": [],
   "source": [
    "import os\n",
    "from mpl_toolkits.basemap import Basemap\n",
    "import matplotlib.pyplot as plt\n",
    "from collections import Counter \n",
    "import numpy as np\n",
    "\n",
    "# plot nodes on map\n",
    "lats=[]\n",
    "lons=[]\n",
    "for ip,info in ips_info.items():\n",
    "    if info['country_name'] != None:\n",
    "        lats.append(float(info['latitude']))\n",
    "        lons.append(float(info['longitude']))\n",
    "\n",
    "fig,ax = plt.subplots(2,figsize=(24,24))\n",
    "map = Basemap(projection='cyl', resolution='l',ax=ax[0])\n",
    "map.drawlsmask()\n",
    "x, y = map(lons, lats)\n",
    "map.scatter(x, y, s=100, color='#ff0000', marker='o', alpha=0.9)\n",
    "ax[0].set_title(NETWORK.title()+' Node Lat/Lon',fontsize=40)\n",
    "\n",
    "#plot node count by country\n",
    "countries=[]\n",
    "for ip,info in ips_info.items():\n",
    "    if info['country_name'] != None:\n",
    "        countries.append(info['country'])\n",
    "\n",
    "\n",
    "counts = Counter(countries)\n",
    "counts = sorted(counts.items(), key=lambda i: i[1], reverse=True)\n",
    "title_text = NETWORK.title()+' Node Count by Country'\n",
    "if len(counts) >= 10:\n",
    "    title_text = NETWORK.title()+' Node Count by Country (Top 10)'\n",
    "    counts = counts[:10]\n",
    "labels, values  = zip(*counts)\n",
    "\n",
    "indexes = np.arange(len(labels))\n",
    "width = .5\n",
    "\n",
    "ax[1].set_title(title_text,fontsize=40)\n",
    "ax[1].bar(indexes, values, width)\n",
    "ax[1].set_xticks(indexes)\n",
    "ax[1].set_xticklabels(labels)\n",
    "ax[1].set_xlabel(\"Country\",fontsize=40)\n",
    "ax[1].tick_params(size=12,labelsize=20)\n",
    "ax[1].yaxis.set_major_locator(MaxNLocator(integer=True))\n",
    "plt.grid(linestyle='-', linewidth='0.5', color='grey')\n",
    "plt.rc('font', family='serif')\n",
    "plt.tight_layout()\n",
    "plt.show()"
   ]
  },
  {
   "cell_type": "markdown",
   "metadata": {
    "slideshow": {
     "slide_type": "fragment"
    }
   },
   "source": [
    "> #### Node location information is gathered by geolocating ip addresses 🌍"
   ]
  },
  {
   "cell_type": "code",
   "execution_count": null,
   "metadata": {
    "slideshow": {
     "slide_type": "skip"
    }
   },
   "outputs": [],
   "source": [
    "import matplotlib.pyplot as plt\n",
    "import numpy as np\n",
    "from collections import Counter \n",
    "node_ids = df[\"node_id\"].to_list()\n",
    "node_ids = [node_id.strip() for node_id in node_ids]\n",
    "node_ids_freq = [Counter(node_id) for node_id in node_ids]\n",
    "hex_chars = ['0','1','2','3','4','5','6','7','8','9','a','b','c','d','e','f']\n",
    "freqs = []\n",
    "for node_id_freq in node_ids_freq:\n",
    "    freqs.append([node_id_freq[hex_char] for hex_char in hex_chars])\n",
    "\n",
    "x, y = np.meshgrid(hex_chars, node_ids)\n",
    "intensity = np.array(freqs)\n",
    "\n",
    "#plt.title(NETWORK.title()+' NodeId Character Heatmap',fontsize=40)\n",
    "#plt.pcolormesh(x, y, intensity)\n",
    "#plt.colorbar()\n",
    "#plt.rc('font', family='serif')\n",
    "#plt.xticks(fontsize=40)\n",
    "#plt.rcParams[\"figure.figsize\"] = (50,50)\n",
    "#plt.tight_layout()\n",
    "#plt.show()"
   ]
  },
  {
   "cell_type": "code",
   "execution_count": null,
   "metadata": {},
   "outputs": [],
   "source": []
  },
  {
   "cell_type": "code",
   "execution_count": null,
   "metadata": {},
   "outputs": [],
   "source": []
  },
  {
   "cell_type": "code",
   "execution_count": null,
   "metadata": {},
   "outputs": [],
   "source": [
    "pd.set_option('display.max_columns', None)  \n",
    "pd.set_option('display.expand_frame_repr', False)\n",
    "pd.set_option('display.max_colwidth', -1)\n",
    "pd.set_option('display.width', None)\n",
    "\n",
    "#print(df[(df['next_fork_version']!=113) | (df['next_fork_epoch']!=18446744073709551615)])\n"
   ]
  },
  {
   "cell_type": "code",
   "execution_count": null,
   "metadata": {},
   "outputs": [],
   "source": [
    "#for ip in ips_info:\n",
    "#    info = ips_info[ip]\n",
    "#    if info['country_name'] != None:\n",
    "#        if info['city'] == 'Madrid':\n",
    "#            print(df[df['ip4']==info['ip']])\n"
   ]
  },
  {
   "cell_type": "code",
   "execution_count": null,
   "metadata": {},
   "outputs": [],
   "source": [
    "pd.reset_option('display.max_columns')\n",
    "pd.reset_option('display.expand_frame_repr')\n",
    "pd.reset_option('display.max_colwidth')\n",
    "pd.reset_option('display.width')"
   ]
  },
  {
   "cell_type": "code",
   "execution_count": null,
   "metadata": {},
   "outputs": [],
   "source": []
  },
  {
   "cell_type": "code",
   "execution_count": null,
   "metadata": {},
   "outputs": [],
   "source": []
  }
 ],
 "metadata": {
  "celltoolbar": "Tags",
  "kernelspec": {
   "display_name": "Python 3",
   "language": "python",
   "name": "python3"
  },
  "language_info": {
   "codemirror_mode": {
    "name": "ipython",
    "version": 3
   },
   "file_extension": ".py",
   "mimetype": "text/x-python",
   "name": "python",
   "nbconvert_exporter": "python",
   "pygments_lexer": "ipython3",
   "version": "3.7.4"
  }
 },
 "nbformat": 4,
 "nbformat_minor": 2
}
